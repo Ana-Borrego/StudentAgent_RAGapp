{
 "cells": [
  {
   "cell_type": "code",
   "execution_count": 3,
   "id": "cb482c3e-c6f3-45f2-b013-ba6615101c3c",
   "metadata": {},
   "outputs": [],
   "source": [
    "# Extracción de texto \n",
    "data_path = \"../data/raw_text/Databricks Certified Associate Developer for Apache Spark.pdf\"\n",
    "pattern = r'(?m)^\\s*\\d+\\s*$' # eliminar líneas con sólo números (numero de página del libro)\n",
    "\n",
    "import fitz\n",
    "import re\n",
    "\n",
    "def delete_lines_w_digits_only(text):\n",
    "    return re.sub(pattern, '', text) \n",
    "\n",
    "def delete_strange_characters(text):\n",
    "    \"\"\"Son caracteres que salen de los bloques de código, queremos eliminarlos\"\"\"\n",
    "    return re.sub(\"\\u202f\", \"\", text)\n",
    "\n",
    "def remove_trailing_section_by_keywords(text, keywords=(\"Sample questions\", \"Sample question\", \"Answer\")):\n",
    "    \"\"\"\n",
    "    Elimina el bloque desde que aparece alguna keyword hasta el final del texto.\n",
    "    Sensible a líneas que comienzan encabezando una sección indeseada.\n",
    "    \"\"\"\n",
    "    lines = text.splitlines()\n",
    "    lower_keywords = [kw.lower() for kw in keywords]\n",
    "    \n",
    "    for i, line in enumerate(lines):\n",
    "        if line.strip().lower() in lower_keywords:\n",
    "            return \"\\n\".join(lines[:i]).strip()  # corta desde esa línea hasta el final\n",
    "    return text  # si no se encuentra, se mantiene todo\n",
    "\n",
    "## EXTRAER EL TEXTO DE SÓLO LAS PÁGINAS QUE NOS INTERESAN\n",
    "def extract_range_of_pages(data_path, start_page=31, end_page=208, add_pages_sep=True):\n",
    "    doc = fitz.open(data_path)\n",
    "    selected_text = \"\"\n",
    "\n",
    "    for n_page in range(start_page, end_page + 1):\n",
    "        page = doc.load_page(n_page)\n",
    "        text_from_page = page.get_text()\n",
    "\n",
    "        # Limpieza: eliminar líneas con solo dígitos\n",
    "        cleaned_text = delete_lines_w_digits_only(text_from_page)\n",
    "\n",
    "        # Eliminar contenido desde \"Sample questions\" o \"Answer\" \n",
    "        cleaned_text = delete_strange_characters(cleaned_text)\n",
    "        cleaned_text = remove_trailing_section_by_keywords(cleaned_text)\n",
    "        \n",
    "        if cleaned_text.strip():  # evitar páginas vacías\n",
    "            if add_pages_sep:\n",
    "                selected_text += f\"\\n--- New page {n_page} ---\\n\"\n",
    "            selected_text += cleaned_text + \"\\n\"\n",
    "\n",
    "    return selected_text, doc\n",
    "\n",
    "content, doc = extract_range_of_pages(data_path, add_pages_sep=False)\n",
    "\n",
    "with open(\"../data/plain_text/plain_text.txt\", \"w\", encoding=\"utf-8\") as out: # fichero de salida limpio\n",
    "    out.write(content)"
   ]
  },
  {
   "cell_type": "code",
   "execution_count": null,
   "id": "2a354204-37dc-4d4a-80ea-9efe58506b90",
   "metadata": {},
   "outputs": [],
   "source": []
  }
 ],
 "metadata": {
  "kernelspec": {
   "display_name": "Python 3 (ipykernel)",
   "language": "python",
   "name": "python3"
  },
  "language_info": {
   "codemirror_mode": {
    "name": "ipython",
    "version": 3
   },
   "file_extension": ".py",
   "mimetype": "text/x-python",
   "name": "python",
   "nbconvert_exporter": "python",
   "pygments_lexer": "ipython3",
   "version": "3.12.10"
  }
 },
 "nbformat": 4,
 "nbformat_minor": 5
}
