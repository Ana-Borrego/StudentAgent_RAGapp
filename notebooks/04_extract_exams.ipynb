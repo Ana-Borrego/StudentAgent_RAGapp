{
 "cells": [
  {
   "cell_type": "code",
   "execution_count": 33,
   "id": "a6506b9e-8ad6-4f85-acea-fb374fe28949",
   "metadata": {},
   "outputs": [],
   "source": [
    "# Extracción de texto \n",
    "data_path = \"../data/Databricks Certified Associate Developer for Apache Spark.pdf\"\n",
    "pattern = r'(?m)^\\s*\\d+\\s*$' # eliminar líneas con sólo números (numero de página del libro)\n",
    "\n",
    "import fitz\n",
    "import re\n",
    "import os\n",
    "import json\n",
    "\n",
    "extract_plain_text = False\n",
    "export_json_questions = True\n",
    "\n",
    "def delete_lines_w_digits_only(text):\n",
    "    return re.sub(pattern, '', text) \n",
    "\n",
    "def delete_strange_characters(text):\n",
    "    \"\"\"Son caracteres que salen de los bloques de código, queremos eliminarlos\"\"\"\n",
    "    return re.sub(\"\\u202f\", \"\", text)\n",
    "\n",
    "def extract_cleaned_text(data_path, start_page, end_page):\n",
    "    doc = fitz.open(data_path)\n",
    "    selected_text = \"\"\n",
    "\n",
    "    for n_page in range(start_page, end_page+1):\n",
    "        page = doc.load_page(n_page)\n",
    "        text_from_page = page.get_text()\n",
    "\n",
    "        # Clean text\n",
    "        cleaned_text = delete_lines_w_digits_only(text_from_page)\n",
    "        cleaned_text = delete_strange_characters(cleaned_text)\n",
    "\n",
    "        # Specific noise:\n",
    "        cleaned_text = re.sub(r\"(Mock Test\\s*\\d+|Questions)\", \"\", cleaned_text, flags=re.IGNORECASE)\n",
    "        cleaned_text = re.sub(r\"\\n{2,}\", \"\\n\", cleaned_text)\n",
    "        \n",
    "        # Add important text\n",
    "        if cleaned_text.strip():\n",
    "            selected_text += cleaned_text + \"\\n\"\n",
    "    \n",
    "    return selected_text\n",
    "\n",
    "def extract_options(text_block): \n",
    "    \"\"\"\n",
    "    Extraer las opciones de respuesta A-E manteniendo las indexaciones, para casos donde haya un listado dentro de la opción de respuesta\n",
    "    del tipo i. ii. iii. iv. v. etc.\n",
    "    \"\"\"\n",
    "\n",
    "    split = re.split(\n",
    "        r'\\n(?=([A-E])\\.\\s)', # splittea por A. B. C. D. E. \n",
    "        text_block.strip()\n",
    "    )\n",
    "\n",
    "    results = {} # resultado final\n",
    "    current_key = None # inicializamos en None, pero irá recogiendo A, B, C, etc.\n",
    "    buffer = [] # el contenido de la opción\n",
    "\n",
    "    for part in split: \n",
    "        m = re.match(r'^([A-E])\\.\\s+(.*)', part, re.DOTALL) \n",
    "        if m: # si la parte es el comienzo de una opción\n",
    "            if current_key: # si hay ya un indicador de A, B, C\n",
    "                results[current_key] = \"\\n\".join(buffer).strip() # le añadimos lo que haya más el buffer que tendrá la siguiente indexación\n",
    "            current_key = m.group(1) # guardará el primer grupo de captura que corresponde a  \"([A-E])\" # actualiza la clave con la nueva opción\n",
    "            buffer = [m.group(2)] # guardará el segundo grupo de captura que corresponde a el texto de la opción \n",
    "        elif current_key:\n",
    "            buffer.append(part) # si no es un inicio de opción con A, B, etc entonces es otra línea de la anterior opción, lo guardamos en buffer.\n",
    "\n",
    "    if current_key: # cuando terminamos de ver todas las partes, guardamos el último buffer en el current_key si este existiera.\n",
    "        # desp del último match no hay una opción que guarde el último buffer procesado, entonces se añade\n",
    "        results[current_key] = \"\\n\".join(buffer).strip()\n",
    "    return results\n",
    "\n",
    "def extract_questions_from_text(cleaned_text: str, test_number: int):\n",
    "    # sep questions\n",
    "    pattern = re.compile(\n",
    "        r\"^Question\\s+(\\d+):\\s*((?:.*(?:\\n(?!Question\\s+\\d+:|\\nAnswers|\\Z).*)*))\",\n",
    "        re.MULTILINE\n",
    "    )\n",
    "    \n",
    "    # sep options  -- ahora las opciones se procesan con una nueva función\n",
    "    # option_splitter = re.compile(r\"\\n([A-E])\\.\\s+\")\n",
    "    \n",
    "    # sep answers by \"id\"\n",
    "    answers_pattern = re.compile(r\"\\n\\s*(\\d+)\\.\\s*([A-E])\")\n",
    "    answers = {int(q): a for q, a in answers_pattern.findall(cleaned_text)}\n",
    "\n",
    "    questions = []\n",
    "    i = 0\n",
    "    for match in pattern.finditer(cleaned_text):\n",
    "        q_num = int(match.group(1)) # \"Question X\"\n",
    "        q_text = match.group(2).strip() # text from question\n",
    "        i+=1\n",
    "        # Dividir el enunciado de bloque de opciones:\n",
    "        # Extraer todas las opciones\n",
    "        options = extract_options(q_text)\n",
    "        \n",
    "        # Extraer el texto anterior a la primera opción encontrada\n",
    "        if options:\n",
    "            # Buscar la posición exacta de la opción A. (no su contenido)\n",
    "            option_a_match = re.search(r\"\\nA\\.\\s\", q_text)\n",
    "            if option_a_match:\n",
    "                question_text = q_text[:option_a_match.start()].strip()\n",
    "            else:\n",
    "                question_text = q_text.strip()\n",
    "        else:\n",
    "            question_text = q_text.strip()\n",
    "\n",
    "        #parts = option_splitter.split(q_text) # sep text\n",
    "        #if len(parts) > 3:\n",
    "        #    question_text = parts[0].strip()\n",
    "        #   options = {\n",
    "        #        parts[i]: parts[i + 1].strip()\n",
    "        #        for i in range(1, len(parts) - 1, 2)\n",
    "        #    }\n",
    "        #else: # if it is not a questions save only text\n",
    "        #    question_text = q_text\n",
    "        #    options = {}\n",
    "\n",
    "        question_id = f\"Test_{test_number}_{q_num}\"  # create a ID\n",
    "        correct = answers.get(q_num, None) # get the answer by num of question\n",
    "\n",
    "        questions.append({ # save info\n",
    "            \"question_id\": question_id,\n",
    "            \"question\": question_text,\n",
    "            \"options\": options,\n",
    "            \"correct_answer\": correct\n",
    "        })\n",
    "\n",
    "    return questions\n",
    "\n",
    "# limits of tests: (pages)\n",
    "mock_test_1_pages = [211, 234]\n",
    "mock_test_2_pages = [235, 258]"
   ]
  },
  {
   "cell_type": "markdown",
   "id": "ffc239cd-9fdf-462d-b860-1ce50aca23ef",
   "metadata": {},
   "source": [
    "# Extraer las preguntas de forma ordenada"
   ]
  },
  {
   "cell_type": "code",
   "execution_count": 34,
   "id": "541cb599-d426-449f-8434-fe69d4eb3aeb",
   "metadata": {},
   "outputs": [],
   "source": [
    "# paths for cleaned_texts\n",
    "plain_text_1_path = \"../data/exams_test2/plain_text/clean_text_test1.txt\"\n",
    "plain_text_2_path = \"../data/exams_test2/plain_text/clean_text_test2.txt\"\n",
    "\n",
    "if extract_plain_text:\n",
    "    text_test1 = extract_cleaned_text(data_path, *mock_test_1_pages)\n",
    "    text_test2 = extract_cleaned_text(data_path, *mock_test_2_pages)\n",
    "\n",
    "    os.makedirs(\"../data/exams_testsv2/plain_text\", exist_ok=True)\n",
    "    with open(plain_text_1_path, \"w\", encoding=\"utf-8\") as f:\n",
    "        f.write(text_test1)\n",
    "    with open(plain_text_2_path, \"w\", encoding=\"utf-8\") as f:\n",
    "        f.write(text_test2)\n",
    "else:\n",
    "    with open(plain_text_1_path, \"r\", encoding=\"utf-8\") as f:\n",
    "        text_test1 = f.read()\n",
    "    with open(plain_text_2_path, \"r\", encoding=\"utf-8\") as f:\n",
    "        text_test2 = f.read()"
   ]
  },
  {
   "cell_type": "code",
   "execution_count": 35,
   "id": "b5b7883f-c786-4471-8be1-8f42cb1de6ec",
   "metadata": {},
   "outputs": [
    {
     "name": "stdout",
     "output_type": "stream",
     "text": [
      "✅ Exportadas 120 preguntas en JSON.\n"
     ]
    }
   ],
   "source": [
    "# --- Extracción estructurada ---\n",
    "questions_test1 = extract_questions_from_text(text_test1, test_number=1)\n",
    "questions_test2 = extract_questions_from_text(text_test2, test_number=2)\n",
    "all_questions = questions_test1 + questions_test2\n",
    "\n",
    "# --- Exportación JSON ---\n",
    "if export_json_questions:\n",
    "    os.makedirs(\"../data/exams_tests2/clean_questions/\", exist_ok=True)\n",
    "    with open(\"../data/exams_tests2/clean_questions/questions_all_tests.json\", \"w\", encoding=\"utf-8\") as f:\n",
    "        json.dump(all_questions, f, ensure_ascii=False, indent=4)\n",
    "    print(f\"✅ Exportadas {len(all_questions)} preguntas en JSON.\")\n",
    "else:\n",
    "    print(f\"✅ Procesadas {len(all_questions)} preguntas (sin exportar).\")"
   ]
  },
  {
   "cell_type": "code",
   "execution_count": 36,
   "id": "a9e9e35d-0a51-4f75-bb1b-46a778c72fd3",
   "metadata": {},
   "outputs": [
    {
     "data": {
      "text/plain": [
       "{'question_id': 'Test_1_21',\n",
       " 'question': 'Which of the following code blocks performs an inner join of the salarydf and employeedf \\nDataFrames for columns employeeSalaryID and employeeID, respectively?',\n",
       " 'options': {'A': 'salarydf.join(employeedf, salarydf.employeeID == employeedf.\\nemployeeSalaryID)\\n\\n\\nB',\n",
       "  'B': 'i.\\t\\nSalarydf.createOrReplaceTempView(salarydf)\\nii.\\t employeedf.createOrReplaceTempView(\\'employeedf\\')\\niii.\\t spark.sql(\"SELECT * FROM salarydf CROSS JOIN employeedf ON \\nemployeeSalaryID ==employeeID\")\\nC',\n",
       "  'C': 'i.\\t\\nsalarydf\\nii.\\t .join(employeedf, col(employeeID)==col(employeeSalaryID))\\nD',\n",
       "  'D': \"i.\\t\\nSalarydf.createOrReplaceTempView(salarydf)\\nii.\\t employeedf.createOrReplaceTempView('employeedf')\\niii.\\t SELECT * FROM salarydf\\niv.\\t INNER JOIN employeedf\\nv.\\t\\nON salarydf.employeeSalaryID == employeedf. employeeID\"},\n",
       " 'correct_answer': 'D'}"
      ]
     },
     "execution_count": 36,
     "metadata": {},
     "output_type": "execute_result"
    }
   ],
   "source": [
    "all_questions[20]"
   ]
  },
  {
   "cell_type": "code",
   "execution_count": 37,
   "id": "508f4e05-66c0-4be6-b965-26e5f8da3c88",
   "metadata": {},
   "outputs": [
    {
     "data": {
      "text/plain": [
       "{'question_id': 'Test_1_25',\n",
       " 'question': 'The following code block should return a df DataFrame, where the employeeID column is converted \\ninto an integer. Choose the answer that correctly fills the blanks in the code block to accomplish this:\\ndf.__1__(__2__.__3__(__4__))',\n",
       " 'options': {'A': 'i.\\t\\nselect\\nii.\\t col(\"employeeID\")\\niii.\\t as\\niv.\\t IntegerType\\nB',\n",
       "  'B': 'i.\\t\\nselect\\nii.\\t col(\"employeeID\")\\niii.\\t as\\niv.\\t Integer\\n\\n\\nC',\n",
       "  'C': 'i.\\t\\ncast\\nii.\\t \"employeeID\"\\niii.\\t as\\niv.\\t IntegerType()\\nD',\n",
       "  'D': 'i.\\t\\nselect\\nii.\\t col(\"employeeID\")\\niii.\\t cast\\niv.\\t IntegerType()'},\n",
       " 'correct_answer': 'D'}"
      ]
     },
     "execution_count": 37,
     "metadata": {},
     "output_type": "execute_result"
    }
   ],
   "source": [
    "all_questions[24]"
   ]
  },
  {
   "cell_type": "code",
   "execution_count": 38,
   "id": "f905f459-6345-4c9e-8a9a-ab0ff3f76419",
   "metadata": {},
   "outputs": [
    {
     "data": {
      "text/plain": [
       "{'question_id': 'Test_1_38',\n",
       " 'question': 'The following code block should write the df DataFrame as a Parquet file to the filePath path, \\nreplacing any existing file. Choose the answer that correctly fills the blanks in the code block to \\naccomplish this:\\ndf.__1__.format(\"parquet\").__2__(__3__).__4__(filePath)',\n",
       " 'options': {'A': 'i.\\t\\nsave\\nii.\\t mode\\niii.\\t \"ignore\"\\niv.\\t path\\n\\n\\nB',\n",
       "  'B': 'i.\\t\\nstore\\nii.\\t with\\niii.\\t \"replace\"\\niv.\\t path\\nC',\n",
       "  'C': 'i.\\t\\nwrite\\nii.\\t mode\\niii.\\t \"overwrite\"\\niv.\\t save\\nD',\n",
       "  'D': 'i.\\t\\nsave\\nii.\\t mode\\niii.\\t \"overwrite\"\\niv.\\t path'},\n",
       " 'correct_answer': 'C'}"
      ]
     },
     "execution_count": 38,
     "metadata": {},
     "output_type": "execute_result"
    }
   ],
   "source": [
    "all_questions[37]"
   ]
  },
  {
   "cell_type": "code",
   "execution_count": null,
   "id": "0a3e9a42-3550-4f7f-8094-db004b9f8a7a",
   "metadata": {},
   "outputs": [],
   "source": []
  }
 ],
 "metadata": {
  "kernelspec": {
   "display_name": "Python 3 (ipykernel)",
   "language": "python",
   "name": "python3"
  },
  "language_info": {
   "codemirror_mode": {
    "name": "ipython",
    "version": 3
   },
   "file_extension": ".py",
   "mimetype": "text/x-python",
   "name": "python",
   "nbconvert_exporter": "python",
   "pygments_lexer": "ipython3",
   "version": "3.12.10"
  }
 },
 "nbformat": 4,
 "nbformat_minor": 5
}
